{
 "cells": [
  {
   "cell_type": "code",
   "execution_count": 1,
   "id": "61d9e028-4e79-466f-b4d1-d25e7f30a46d",
   "metadata": {},
   "outputs": [],
   "source": [
    "# import brewer2mpl\n",
    "import pandas as pd\n",
    "import matplotlib\n",
    "import matplotlib.pyplot as plt\n",
    "from matplotlib.pyplot import *\n",
    "import matplotlib.gridspec as gridspec\n",
    "from matplotlib.gridspec import *\n",
    "from scipy import *\n",
    "import scipy.spatial.distance as distance\n",
    "import scipy.cluster.hierarchy as sch\n",
    "import numpy as np\n",
    "# from mnist import MNIST\n",
    "import matplotlib.pyplot as plt"
   ]
  },
  {
   "cell_type": "code",
   "execution_count": 2,
   "id": "0fd964a5-ce4d-4efb-8258-fbcfe5a95e9f",
   "metadata": {},
   "outputs": [],
   "source": [
    "# Initialize dictionaries to store metadata mappings\n",
    "smp_2_size = {}  # Maps sample IDs to genome sizes\n",
    "smp_2_donor = {}  # Maps sample IDs to donor information\n",
    "smp_2_species = {}  # Maps sample IDs to species information\n",
    "\n",
    "# Initialize dictionaries to store filtered species metadata\n",
    "Filtered_Species_smplist = {}  # Maps species to lists of sample IDs\n",
    "Filtered_Species_donorlist = {}  # Maps species to donor information dictionaries\n",
    "Filtered_Species_sizelist = {}  # Maps species to lists of genome sizes\n",
    "\n",
    "# Open the metadata file for reading\n",
    "with open('../Intermediary-files/filtered_samples.csv') as file:\n",
    "    # Iterate through each line in the file\n",
    "    for line in file:\n",
    "        # Check if the line does not contain the header\n",
    "        if 'GenomeSize' not in line:\n",
    "            # Split the line by comma and extract relevant information\n",
    "            smp, sp, size, donor = line.strip().split(',')[0], line.strip().split(',')[1], int(line.strip().split(',')[2]), line.strip().split(',')[3]\n",
    "            \n",
    "            # Store sample metadata in respective dictionaries\n",
    "            smp_2_size[smp] = size\n",
    "            smp_2_donor[smp] = donor\n",
    "            smp_2_species[smp] = sp\n",
    "            \n",
    "            # Update filtered species metadata dictionaries\n",
    "            if sp not in Filtered_Species_smplist:\n",
    "                Filtered_Species_smplist[sp] = []\n",
    "                Filtered_Species_donorlist[sp] = {}\n",
    "                Filtered_Species_sizelist[sp] = []\n",
    "            \n",
    "            # Append sample to species list\n",
    "            Filtered_Species_smplist[sp].append(smp)\n",
    "            \n",
    "            # Append size to species size list\n",
    "            Filtered_Species_sizelist[sp].append(size)\n",
    "            \n",
    "            # Update donor information for species\n",
    "            if donor not in Filtered_Species_donorlist[sp]:\n",
    "                Filtered_Species_donorlist[sp][donor] = []\n",
    "            Filtered_Species_donorlist[sp][donor].append(smp)\n"
   ]
  },
  {
   "cell_type": "code",
   "execution_count": 6,
   "id": "3ac88c98-2fdc-4dbf-ba43-de59cc966ed0",
   "metadata": {},
   "outputs": [
    {
     "name": "stdout",
     "output_type": "stream",
     "text": [
      "Bacteroides_uniformis 87\n",
      "Bacteroides_thetaiotaomicron 11\n",
      "Parabacteroides_distasonis 79\n",
      "Bacteroides_ovatus 32\n",
      "Parabacteroides_merdae 32\n",
      "Phocaeicola_vulgatus 37\n",
      "Bacteroides_caccae 10\n",
      "Escherichia_coli 211\n",
      "Bifidobacterium_longum 268\n",
      "Lacticaseibacillus_paracasei 13\n",
      "Bacteroides_cellulosilyticus 15\n",
      "Collinsella_sp900541125 46\n",
      "Bacteroides_fragilis 42\n",
      "Bacteroides_xylanisolvens 14\n",
      "Lacticaseibacillus_rhamnosus 11\n",
      "Bifidobacterium_adolescentis 377\n",
      "Bifidobacterium_pseudocatenulatum 32\n",
      "Bifidobacterium_catenulatum 11\n",
      "Streptococcus_salivarius 32\n",
      "Eggerthella_lenta 17\n"
     ]
    }
   ],
   "source": [
    "cut1=5\n",
    "cut2=10\n",
    "for sp in Filtered_Species_donorlist:\n",
    "    a=0\n",
    "    for donor in Filtered_Species_donorlist[sp]:\n",
    "        if len(Filtered_Species_donorlist[sp][donor])>=cut1:\n",
    "            a+=1\n",
    "\n",
    "    if a>=cut2:\n",
    "        print(sp,a)"
   ]
  },
  {
   "cell_type": "code",
   "execution_count": 4,
   "id": "c42ded30-b3e0-4905-8d03-0990c4c977e8",
   "metadata": {},
   "outputs": [
    {
     "data": {
      "text/plain": [
       "['AR-001_F01']"
      ]
     },
     "execution_count": 4,
     "metadata": {},
     "output_type": "execute_result"
    }
   ],
   "source": [
    "Filtered_Species_donorlist['Bacteroides_uniformis']['H507']"
   ]
  },
  {
   "cell_type": "code",
   "execution_count": null,
   "id": "188f711f-8067-46ad-a0b5-f158c5109d96",
   "metadata": {},
   "outputs": [],
   "source": []
  }
 ],
 "metadata": {
  "kernelspec": {
   "display_name": "Python 3 (ipykernel)",
   "language": "python",
   "name": "python3"
  },
  "language_info": {
   "codemirror_mode": {
    "name": "ipython",
    "version": 3
   },
   "file_extension": ".py",
   "mimetype": "text/x-python",
   "name": "python",
   "nbconvert_exporter": "python",
   "pygments_lexer": "ipython3",
   "version": "3.10.9"
  }
 },
 "nbformat": 4,
 "nbformat_minor": 5
}
